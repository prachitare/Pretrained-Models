{
  "cells": [
    {
      "cell_type": "code",
      "execution_count": null,
      "id": "circular-concern",
      "metadata": {
        "id": "circular-concern",
        "outputId": "9ec00b13-97bd-4fd2-c74b-e5fc34ee728b"
      },
      "outputs": [
        {
          "name": "stderr",
          "output_type": "stream",
          "text": [
            "2021-08-03 09:30:16,508 - 2620613 - root - INFO - first line of multilex_NERModel_lg_xform\n",
            "2021-08-03 09:30:16,526 - 2620613 - root - INFO - Attempting to download spacy's trained model: ['python', '-m', 'pip', 'install', 'en_core_web_lg']\n"
          ]
        },
        {
          "name": "stdout",
          "output_type": "stream",
          "text": [
            "/home/prachi_multilex\n"
          ]
        },
        {
          "name": "stderr",
          "output_type": "stream",
          "text": [
            "2021-08-03 09:30:20,784 - 2620613 - root - INFO - Finished downloading trained model: download_cmd=['python', '-m', 'pip', 'install', 'en_core_web_lg'] ; completedProcess.stdout=b'Looking in indexes: https://pypi.org/simple, https://pip.infinstor.com\\nRequirement already satisfied: en_core_web_lg in ./miniconda3/envs/multilex/lib/python3.8/site-packages (2.3.1)\\nRequirement already satisfied: spacy<2.4.0,>=2.3.0 in ./miniconda3/envs/multilex/lib/python3.8/site-packages (from en_core_web_lg) (2.3.5)\\nRequirement already satisfied: numpy>=1.15.0 in ./miniconda3/envs/multilex/lib/python3.8/site-packages (from spacy<2.4.0,>=2.3.0->en_core_web_lg) (1.18.0)\\nRequirement already satisfied: setuptools in ./miniconda3/envs/multilex/lib/python3.8/site-packages (from spacy<2.4.0,>=2.3.0->en_core_web_lg) (51.3.3.post20210118)\\nRequirement already satisfied: cymem<2.1.0,>=2.0.2 in ./miniconda3/envs/multilex/lib/python3.8/site-packages (from spacy<2.4.0,>=2.3.0->en_core_web_lg) (2.0.5)\\nRequirement already satisfied: srsly<1.1.0,>=1.0.2 in ./miniconda3/envs/multilex/lib/python3.8/site-packages (from spacy<2.4.0,>=2.3.0->en_core_web_lg) (1.0.5)\\nRequirement already satisfied: catalogue<1.1.0,>=0.0.7 in ./miniconda3/envs/multilex/lib/python3.8/site-packages (from spacy<2.4.0,>=2.3.0->en_core_web_lg) (1.0.0)\\nRequirement already satisfied: thinc<7.5.0,>=7.4.1 in ./miniconda3/envs/multilex/lib/python3.8/site-packages (from spacy<2.4.0,>=2.3.0->en_core_web_lg) (7.4.5)\\nRequirement already satisfied: murmurhash<1.1.0,>=0.28.0 in ./miniconda3/envs/multilex/lib/python3.8/site-packages (from spacy<2.4.0,>=2.3.0->en_core_web_lg) (1.0.5)\\nRequirement already satisfied: requests<3.0.0,>=2.13.0 in ./miniconda3/envs/multilex/lib/python3.8/site-packages (from spacy<2.4.0,>=2.3.0->en_core_web_lg) (2.22.0)\\nRequirement already satisfied: plac<1.2.0,>=0.9.6 in ./miniconda3/envs/multilex/lib/python3.8/site-packages (from spacy<2.4.0,>=2.3.0->en_core_web_lg) (1.1.3)\\nRequirement already satisfied: tqdm<5.0.0,>=4.38.0 in ./miniconda3/envs/multilex/lib/python3.8/site-packages (from spacy<2.4.0,>=2.3.0->en_core_web_lg) (4.41.1)\\nRequirement already satisfied: wasabi<1.1.0,>=0.4.0 in ./miniconda3/envs/multilex/lib/python3.8/site-packages (from spacy<2.4.0,>=2.3.0->en_core_web_lg) (0.8.0)\\nRequirement already satisfied: preshed<3.1.0,>=3.0.2 in ./miniconda3/envs/multilex/lib/python3.8/site-packages (from spacy<2.4.0,>=2.3.0->en_core_web_lg) (3.0.5)\\nRequirement already satisfied: blis<0.8.0,>=0.4.0 in ./miniconda3/envs/multilex/lib/python3.8/site-packages (from spacy<2.4.0,>=2.3.0->en_core_web_lg) (0.7.4)\\nRequirement already satisfied: idna<2.9,>=2.5 in ./miniconda3/envs/multilex/lib/python3.8/site-packages (from requests<3.0.0,>=2.13.0->spacy<2.4.0,>=2.3.0->en_core_web_lg) (2.8)\\nRequirement already satisfied: urllib3!=1.25.0,!=1.25.1,<1.26,>=1.21.1 in ./miniconda3/envs/multilex/lib/python3.8/site-packages (from requests<3.0.0,>=2.13.0->spacy<2.4.0,>=2.3.0->en_core_web_lg) (1.25.11)\\nRequirement already satisfied: certifi>=2017.4.17 in ./miniconda3/envs/multilex/lib/python3.8/site-packages (from requests<3.0.0,>=2.13.0->spacy<2.4.0,>=2.3.0->en_core_web_lg) (2020.12.5)\\nRequirement already satisfied: chardet<3.1.0,>=3.0.2 in ./miniconda3/envs/multilex/lib/python3.8/site-packages (from requests<3.0.0,>=2.13.0->spacy<2.4.0,>=2.3.0->en_core_web_lg) (3.0.4)\\n' ; completedProcess.stderr=b''\n",
            "2021-08-03 09:31:28,453 - 2620613 - root - INFO - reading input artifact /home/prachi_multilex/todays_report.csv\n",
            "2021-08-03 09:31:28,545 - 2620613 - root - INFO - completed reading input artifact /home/prachi_multilex/todays_report.csv\n",
            "2021-08-03 09:31:31,550 - 2620613 - root - INFO - writing output artifact /home/prachi_multilex/EDI_PREIPO_report.csv to /home/prachi_multilex\n",
            "2021-08-03 09:31:31,555 - 2620613 - root - INFO - completed writing output artifact /home/prachi_multilex/EDI_PREIPO_report.csv to /home/prachi_multilex\n",
            "2021-08-03 09:31:32,608 - 2620613 - root - INFO - last line of multilex_NERModel_lg_xform\n"
          ]
        }
      ],
      "source": [
        "\n",
        "\n",
        "def download_spacy_model(spacy_model_name):\n",
        "        # install en_core_web_xx.  \n",
        "        #     Note: pip doesn't work: if 'pip install https://github.com/explosion/spacy-models/releases/download/en_core_web_sm-2.3.1/en_core_web_sm-2.3.1.tar.gz' is used to install this in the local environemnt, \n",
        "        #         conda is not able to install this in a remote environment again using conda.yaml (say in a single VM environment), as conda/pip doesn't seem to preserve the URL and always looks it up in \n",
        "        #         www.pypi.org/simple or pip.infinstor.com.  so do not use above pip command to install this in the local environment.\n",
        "        #     so use python -m spacy download en_core_web_xx.  \n",
        "        #        TODO: Note that this command is not intelligent enough to not download the training model again, if it has already been downloaded.  See if this can be improved. \n",
        "        #              'pip' would have been one option to improve this (as it will not download again) but it doesn't work with conda.yaml (see above)\n",
        "        #         Note: this also adds an entry in pip's list of installated packages, which cannot be installed by conda due in another environment since the package is not found in pypi.org/simple\n",
        "        #            (multilex) raja@xubuntu-18-04:~$ pip list | grep en-core\n",
        "        #            en-core-web-sm                2.3.1\n",
        "        #            (multilex) raja@xubuntu-18-04:~$ conda env export|grep en-core\n",
        "        #            - en-core-web-sm==2.3.1\n",
        "        try:\n",
        "                # download_cmd = [\"python\", \"-m\", \"spacy\", \"download\", spacy_model_name]\n",
        "                download_cmd = [\"python\", \"-m\", \"pip\", \"install\", spacy_model_name]\n",
        "                logging.info(\"Attempting to download spacy's trained model: %s\", download_cmd)\n",
        "                # note that if capture_output is not specified, then the subprocess output (written to stdout) is seen in iPython console output and not in the notebook output area.  so using capture_output, so that it can be displayed in the notebook cell output area\n",
        "                completedProcess = subprocess.run(args=download_cmd, capture_output=True)\n",
        "                logging.info(\"Finished downloading trained model: download_cmd=%s ; completedProcess.stdout=%s ; completedProcess.stderr=%s\", download_cmd, completedProcess.stdout, completedProcess.stderr)\n",
        "\n",
        "                # refresh pkg_resources so that the above downloaded model (as a python package) is visible to this code: \"pkg_resources.working_set.by_key.keys()\".  this code is used by spacy.load() below to load the model.  without this, will see this error\n",
        "                # to test this code:\n",
        "                #   delete the python package en-core-web-xx from site-packages directory\n",
        "                #   restart the ipython kernel\n",
        "                logging.debug(\"packages listed by pkg_resources.working_set.by_key.keys() before refresh using imp.reload(pkg_resources) = %s\", pkg_resources.working_set.by_key.keys())\n",
        "                import imp\n",
        "                imp.reload(pkg_resources)\n",
        "                logging.debug(\"packages listed by pkg_resources.working_set.by_key.keys() after refresh using imp.reload(pkg_resources) = %s\", pkg_resources.working_set.by_key.keys())\n",
        "        except: \n",
        "                logging.error(\"Error: Exception caught when downloading spacy's trained model: \",  exc_info=sys.exc_info())\n",
        "                logging.error(\"packages listed by pkg_resources.working_set.by_key.keys()  = %s\", pkg_resources.working_set.by_key.keys())\n",
        "                # TODO: need to abort this transform if this download fails\n",
        "\n",
        "\n",
        "# %%\n",
        "import subprocess\n",
        "import sys\n",
        "def NERModel_lg(input_dir, output_dir):\n",
        "        import os\n",
        "        print(os.getcwd())\n",
        "        # %%\n",
        "        import pandas as pd\n",
        "        import spacy\n",
        "        from datetime import datetime ,date\n",
        "        import pyshorteners\n",
        "        cur_date = str(date.today())\n",
        "\n",
        "        # download the spacy model.  TODO: switch to en_core_web_lg\n",
        "#         spacy_model='en_core_web_sm'\n",
        "        spacy_model='en_core_web_lg'\n",
        "        download_spacy_model(spacy_model)\n",
        "        # load the module.  \n",
        "        nlp1 = spacy.load(spacy_model)\n",
        "        #nlp1 = spacy.load('en_core_web_lg')\n",
        "        # read from <input_dir>/infinstor/todays_report.csv\n",
        "#         input_file_fullpath = os.path.join(input_dir, 'infinstor','todays_report.csv')\n",
        "        \n",
        "\n",
        "        # data.dropna(inplace=True)\n",
        "        lst1 =[];\n",
        "        for i in text:\n",
        "                lst_1 =[]\n",
        "                i = str(i)\n",
        "                doc = nlp1(i)\n",
        "                for element in doc.ents:\n",
        "        #             print(element.label_)\n",
        "                    if element.label_ == 'ORG':\n",
        "                        lst_1.append(element)\n",
        "                lst1.append(lst_1)     \n",
        "\n",
        "        lst2=[]\n",
        "        for i in title:\n",
        "                lst_2 =[]\n",
        "                i = str(i)\n",
        "                doc = nlp1(i)\n",
        "                for element in doc.ents:\n",
        "        #             print(element.label_)\n",
        "                    if element.label_ == 'ORG':\n",
        "                        lst_2.append(element)\n",
        "                lst2.append(lst_2)        \n",
        "        \n",
        "        df = pd.DataFrame(dic)\n",
        "        dff = [data,df]\n",
        "        df_final = pd.concat(dff,axis=1)\n",
        "        df_final\n",
        "\n",
        "\n",
        "        # %%\n",
        "\n",
        "\n",
        "\n"
      ]
    },
    {
      "cell_type": "code",
      "execution_count": null,
      "id": "apart-prison",
      "metadata": {
        "id": "apart-prison",
        "outputId": "fdf213ac-21d2-467e-ca1c-fdf130468fb2"
      },
      "outputs": [
        {
          "name": "stdout",
          "output_type": "stream",
          "text": [
            "env: MLFLOW_TRACKING_URI=infinstor://infinstor.com/\n",
            "env: MLFLOW_EXPERIMENT_ID=0\n",
            "InfinStor token has expired. Calling renew 1616685561, 1616689597\n",
            "Found in cache. run_id=0-12143a1dbf2546f7bc87c74788ed0120\n"
          ]
        }
      ],
      "source": [
        "from infinstor import run_transforms\n",
        "\n",
        "transforms = []\n",
        "\n",
        "%env MLFLOW_TRACKING_URI infinstor://infinstor.com/\n",
        "%env MLFLOW_EXPERIMENT_ID 0\n",
        "input_data_spec = dict()\n",
        "input_data_spec['type'] = 'mlflow-run-artifacts'\n",
        "input_data_spec['run_id'] = '10-681b2d4c775f4be4a37fe204fe32ba8f'\n",
        "run_options = dict()\n",
        "run_options['run_location'] = 'inline'\n",
        "run_options['service_name'] = 'infinstor.com'\n",
        "run_options['input_data_spec'] = input_data_spec\n",
        "run_options['xformname'] = 'new_nerlgmodel_transform'\n",
        "transform1= {}\n",
        "transform1['kwargs'] = None\n",
        "transform1['run_options'] = run_options\n",
        "transforms.append(transform1) \n",
        "\n",
        "run_id = run_transforms(transforms)"
      ]
    },
    {
      "cell_type": "code",
      "execution_count": null,
      "id": "nutritional-helen",
      "metadata": {
        "id": "nutritional-helen",
        "outputId": "b8ca3c69-39de-4191-caaa-fc945b5b0c59"
      },
      "outputs": [
        {
          "name": "stdout",
          "output_type": "stream",
          "text": [
            "env: MLFLOW_TRACKING_URI=infinstor://infinstor.com/\n",
            "env: MLFLOW_EXPERIMENT_ID=0\n",
            "Did not find data in cache. Running transform\n"
          ]
        },
        {
          "name": "stderr",
          "output_type": "stream",
          "text": [
            "2021-03-25 17:30:59,872 - 695269 - botocore.credentials - INFO - Found credentials in shared credentials file: ~/.aws/credentials\n"
          ]
        },
        {
          "name": "stdout",
          "output_type": "stream",
          "text": [
            "Running transform infin_transform_all_objects\n",
            "1 files in mlflow-artifacts/prachi-multilex/10/10-681b2d4c775f4be4a37fe204fe32ba8f/infinstor/\n",
            "infinstor[695269][2021-03-25 17:31:08]Processing parentdir mlflow-artifacts/prachi-multilex/10/10-681b2d4c775f4be4a37fe204fe32ba8f/infinstor with 1 objects, temp_input_dir=/tmp/tmpipo47ocd/infinstor, temp_output_dir=/tmp/tmp44ch66f4\n"
          ]
        },
        {
          "name": "stderr",
          "output_type": "stream",
          "text": [
            "100%|██████████| 1/1 [00:00<00:00,  2.27it/s]\n",
            "2021-03-25 17:31:12,230 - 695269 - root - INFO - first line of multilex_NERModel_lg_xform\n",
            "2021-03-25 17:31:12,232 - 695269 - root - INFO - last line of multilex_NERModel_lg_xform\n",
            "2021-03-25 17:31:12,233 - 695269 - root - INFO - input_dir=/tmp/tmpipo47ocd, output_dir=/tmp/tmp44ch66f4\n",
            "2021-03-25 17:31:12,234 - 695269 - root - INFO - file in directory /tmp/tmpipo47ocd/infinstor = /tmp/tmpipo47ocd/infinstor/todays_report.csv. size = 122004\n",
            "2021-03-25 17:31:12,236 - 695269 - root - INFO - Attempting to download spacy's trained model: ['python', '-m', 'pip', 'install', 'en_core_web_lg']\n"
          ]
        },
        {
          "name": "stdout",
          "output_type": "stream",
          "text": [
            "infinstor[695269][2021-03-25 17:31:12]Execution of global statics complete. status_str=Success\n",
            "/tmp/tmpipo47ocd\n",
            "/tmp/tmpipo47ocd/infinstor\n",
            "/home/prachi_multilex\n"
          ]
        },
        {
          "name": "stderr",
          "output_type": "stream",
          "text": [
            "2021-03-25 17:31:14,692 - 695269 - root - INFO - Finished downloading trained model: download_cmd=['python', '-m', 'pip', 'install', 'en_core_web_lg'] ; completedProcess.stdout=b'Looking in indexes: https://pypi.org/simple, https://pip.infinstor.com\\nRequirement already satisfied: en_core_web_lg in ./miniconda3/envs/multilex/lib/python3.8/site-packages (2.3.1)\\nRequirement already satisfied: spacy<2.4.0,>=2.3.0 in ./miniconda3/envs/multilex/lib/python3.8/site-packages (from en_core_web_lg) (2.3.5)\\nRequirement already satisfied: srsly<1.1.0,>=1.0.2 in ./miniconda3/envs/multilex/lib/python3.8/site-packages (from spacy<2.4.0,>=2.3.0->en_core_web_lg) (1.0.5)\\nRequirement already satisfied: preshed<3.1.0,>=3.0.2 in ./miniconda3/envs/multilex/lib/python3.8/site-packages (from spacy<2.4.0,>=2.3.0->en_core_web_lg) (3.0.5)\\nRequirement already satisfied: blis<0.8.0,>=0.4.0 in ./miniconda3/envs/multilex/lib/python3.8/site-packages (from spacy<2.4.0,>=2.3.0->en_core_web_lg) (0.7.4)\\nRequirement already satisfied: requests<3.0.0,>=2.13.0 in ./miniconda3/envs/multilex/lib/python3.8/site-packages (from spacy<2.4.0,>=2.3.0->en_core_web_lg) (2.25.1)\\nRequirement already satisfied: catalogue<1.1.0,>=0.0.7 in ./miniconda3/envs/multilex/lib/python3.8/site-packages (from spacy<2.4.0,>=2.3.0->en_core_web_lg) (1.0.0)\\nRequirement already satisfied: murmurhash<1.1.0,>=0.28.0 in ./miniconda3/envs/multilex/lib/python3.8/site-packages (from spacy<2.4.0,>=2.3.0->en_core_web_lg) (1.0.5)\\nRequirement already satisfied: numpy>=1.15.0 in ./miniconda3/envs/multilex/lib/python3.8/site-packages (from spacy<2.4.0,>=2.3.0->en_core_web_lg) (1.19.5)\\nRequirement already satisfied: plac<1.2.0,>=0.9.6 in ./miniconda3/envs/multilex/lib/python3.8/site-packages (from spacy<2.4.0,>=2.3.0->en_core_web_lg) (1.1.3)\\nRequirement already satisfied: tqdm<5.0.0,>=4.38.0 in ./miniconda3/envs/multilex/lib/python3.8/site-packages (from spacy<2.4.0,>=2.3.0->en_core_web_lg) (4.56.0)\\nRequirement already satisfied: thinc<7.5.0,>=7.4.1 in ./miniconda3/envs/multilex/lib/python3.8/site-packages (from spacy<2.4.0,>=2.3.0->en_core_web_lg) (7.4.5)\\nRequirement already satisfied: cymem<2.1.0,>=2.0.2 in ./miniconda3/envs/multilex/lib/python3.8/site-packages (from spacy<2.4.0,>=2.3.0->en_core_web_lg) (2.0.5)\\nRequirement already satisfied: setuptools in ./miniconda3/envs/multilex/lib/python3.8/site-packages (from spacy<2.4.0,>=2.3.0->en_core_web_lg) (51.3.3.post20210118)\\nRequirement already satisfied: wasabi<1.1.0,>=0.4.0 in ./miniconda3/envs/multilex/lib/python3.8/site-packages (from spacy<2.4.0,>=2.3.0->en_core_web_lg) (0.8.0)\\nRequirement already satisfied: urllib3<1.27,>=1.21.1 in ./miniconda3/envs/multilex/lib/python3.8/site-packages (from requests<3.0.0,>=2.13.0->spacy<2.4.0,>=2.3.0->en_core_web_lg) (1.26.2)\\nRequirement already satisfied: chardet<5,>=3.0.2 in ./miniconda3/envs/multilex/lib/python3.8/site-packages (from requests<3.0.0,>=2.13.0->spacy<2.4.0,>=2.3.0->en_core_web_lg) (3.0.4)\\nRequirement already satisfied: idna<3,>=2.5 in ./miniconda3/envs/multilex/lib/python3.8/site-packages (from requests<3.0.0,>=2.13.0->spacy<2.4.0,>=2.3.0->en_core_web_lg) (2.10)\\nRequirement already satisfied: certifi>=2017.4.17 in ./miniconda3/envs/multilex/lib/python3.8/site-packages (from requests<3.0.0,>=2.13.0->spacy<2.4.0,>=2.3.0->en_core_web_lg) (2020.12.5)\\n' ; completedProcess.stderr=b''\n",
            "2021-03-25 17:31:22,655 - 695269 - root - INFO - reading input artifact /tmp/tmpipo47ocd/infinstor/todays_report.csv\n",
            "2021-03-25 17:31:22,662 - 695269 - root - INFO - completed reading input artifact /tmp/tmpipo47ocd/infinstor/todays_report.csv\n",
            "2021-03-25 17:31:26,224 - 695269 - root - INFO - writing output artifact /tmp/tmp44ch66f4/EDI_PREIPO_report.csv to /tmp/tmp44ch66f4\n",
            "2021-03-25 17:31:26,230 - 695269 - root - INFO - completed writing output artifact /tmp/tmp44ch66f4/EDI_PREIPO_report.csv to /tmp/tmp44ch66f4\n"
          ]
        },
        {
          "name": "stdout",
          "output_type": "stream",
          "text": [
            "infinstor[695269][2021-03-25 17:31:26]Successfully executed transform infin_transform_all_objects\n",
            "infinstor[695269][2021-03-25 17:31:26]Logging artifact /tmp/tmp44ch66f4/EDI_PREIPO_report.csv to infinstor/\n"
          ]
        },
        {
          "name": "stderr",
          "output_type": "stream",
          "text": [
            "2021-03-25 17:31:27,854 - 695269 - botocore.credentials - INFO - Found credentials in shared credentials file: ~/.aws/credentials\n"
          ]
        },
        {
          "name": "stdout",
          "output_type": "stream",
          "text": [
            "infinstor[695269][2021-03-25 17:31:29]Successfully logged artifacts\n"
          ]
        }
      ],
      "source": [
        "from infinstor import run_transforms\n",
        "\n",
        "transforms = []\n",
        "\n",
        "%env MLFLOW_TRACKING_URI infinstor://infinstor.com/\n",
        "%env MLFLOW_EXPERIMENT_ID 0\n",
        "input_data_spec = dict()\n",
        "input_data_spec['type'] = 'mlflow-run-artifacts'\n",
        "input_data_spec['run_id'] = '10-681b2d4c775f4be4a37fe204fe32ba8f'\n",
        "run_options = dict()\n",
        "run_options['run_location'] = 'inline'\n",
        "run_options['service_name'] = 'infinstor.com'\n",
        "run_options['input_data_spec'] = input_data_spec\n",
        "run_options['xformname'] = 'ner_lg_model_transform'\n",
        "transform1= {}\n",
        "transform1['kwargs'] = None\n",
        "transform1['run_options'] = run_options\n",
        "transforms.append(transform1) \n",
        "\n",
        "run_id = run_transforms(transforms)"
      ]
    },
    {
      "cell_type": "code",
      "execution_count": null,
      "id": "further-cylinder",
      "metadata": {
        "id": "further-cylinder"
      },
      "outputs": [],
      "source": [
        "!conda env export -n multilex -f /tmp/conda.yaml --no-builds"
      ]
    },
    {
      "cell_type": "code",
      "execution_count": null,
      "id": "efficient-mainland",
      "metadata": {
        "id": "efficient-mainland"
      },
      "outputs": [],
      "source": [
        ""
      ]
    },
    {
      "cell_type": "code",
      "execution_count": null,
      "id": "fundamental-beverage",
      "metadata": {
        "id": "fundamental-beverage",
        "outputId": "42f86c5b-df39-42fa-9f8e-f80730cd2bac"
      },
      "outputs": [
        {
          "name": "stdout",
          "output_type": "stream",
          "text": [
            "env: MLFLOW_TRACKING_URI=infinstor://infinstor.com/\n",
            "env: MLFLOW_EXPERIMENT_ID=0\n",
            "InfinStor token has expired. Calling renew 1616669720, 1616673441\n",
            "Did not find data in cache. Running transform\n"
          ]
        },
        {
          "name": "stderr",
          "output_type": "stream",
          "text": [
            "2021-03-25 12:57:31,606 - 695269 - botocore.credentials - INFO - Found credentials in shared credentials file: ~/.aws/credentials\n"
          ]
        },
        {
          "name": "stdout",
          "output_type": "stream",
          "text": [
            "Running transform infin_transform_all_objects\n",
            "12 files in \n",
            "12 files in input_files/\n",
            "infinstor[695269][2021-03-25 12:57:46]Processing parentdir  with 12 objects, temp_input_dir=/tmp/tmp0aegrrmq/, temp_output_dir=/tmp/tmpwuw26jzu\n"
          ]
        },
        {
          "name": "stderr",
          "output_type": "stream",
          "text": [
            "100%|██████████| 12/12 [00:04<00:00,  2.99it/s]\n"
          ]
        },
        {
          "name": "stdout",
          "output_type": "stream",
          "text": [
            "infinstor[695269][2021-03-25 12:57:53]Processing parentdir input_files with 12 objects, temp_input_dir=/tmp/tmp0aegrrmq/input_files, temp_output_dir=/tmp/tmpwuw26jzu\n"
          ]
        },
        {
          "name": "stderr",
          "output_type": "stream",
          "text": [
            "100%|██████████| 12/12 [00:02<00:00,  5.28it/s]\n",
            "2021-03-25 12:57:56,824 - 695269 - root - INFO - first line of multilex_NERModel_lg_xform\n",
            "2021-03-25 12:57:56,825 - 695269 - root - INFO - last line of multilex_NERModel_lg_xform\n",
            "2021-03-25 12:57:56,826 - 695269 - root - INFO - input_dir=/tmp/tmp0aegrrmq, output_dir=/tmp/tmpwuw26jzu\n",
            "2021-03-25 12:57:56,829 - 695269 - root - INFO - file in directory /tmp/tmp0aegrrmq = /tmp/tmp0aegrrmq/s3.py. size = 1406\n",
            "2021-03-25 12:57:56,830 - 695269 - root - INFO - file in directory /tmp/tmp0aegrrmq = /tmp/tmp0aegrrmq/s6.py. size = 1448\n",
            "2021-03-25 12:57:56,832 - 695269 - root - INFO - file in directory /tmp/tmp0aegrrmq = /tmp/tmp0aegrrmq/datapreprocess.py. size = 1250\n",
            "2021-03-25 12:57:56,833 - 695269 - root - INFO - file in directory /tmp/tmp0aegrrmq = /tmp/tmp0aegrrmq/s7.py. size = 1509\n",
            "2021-03-25 12:57:56,834 - 695269 - root - INFO - file in directory /tmp/tmp0aegrrmq = /tmp/tmp0aegrrmq/s4.py. size = 1308\n",
            "2021-03-25 12:57:56,835 - 695269 - root - INFO - file in directory /tmp/tmp0aegrrmq = /tmp/tmp0aegrrmq/s5.py. size = 1160\n",
            "2021-03-25 12:57:56,836 - 695269 - root - INFO - file in directory /tmp/tmp0aegrrmq = /tmp/tmp0aegrrmq/s.py. size = 1639\n",
            "2021-03-25 12:57:56,837 - 695269 - root - INFO - file in directory /tmp/tmp0aegrrmq = /tmp/tmp0aegrrmq/s8.py. size = 1432\n",
            "2021-03-25 12:57:56,838 - 695269 - root - INFO - file in directory /tmp/tmp0aegrrmq = /tmp/tmp0aegrrmq/s2.py. size = 1666\n",
            "2021-03-25 12:57:56,840 - 695269 - root - INFO - file in directory /tmp/tmp0aegrrmq = /tmp/tmp0aegrrmq/s9.py. size = 5974\n",
            "2021-03-25 12:57:56,841 - 695269 - root - INFO - file in directory /tmp/tmp0aegrrmq = /tmp/tmp0aegrrmq/a.py. size = 1321\n",
            "2021-03-25 12:57:56,842 - 695269 - root - INFO - file in directory /tmp/tmp0aegrrmq = /tmp/tmp0aegrrmq/predict.py. size = 1739\n",
            "2021-03-25 12:57:56,844 - 695269 - root - INFO - file in directory /tmp/tmp0aegrrmq/input_files = /tmp/tmp0aegrrmq/input_files/s3.py. size = 1406\n",
            "2021-03-25 12:57:56,845 - 695269 - root - INFO - file in directory /tmp/tmp0aegrrmq/input_files = /tmp/tmp0aegrrmq/input_files/s6.py. size = 1448\n",
            "2021-03-25 12:57:56,846 - 695269 - root - INFO - file in directory /tmp/tmp0aegrrmq/input_files = /tmp/tmp0aegrrmq/input_files/datapreprocess.py. size = 1250\n",
            "2021-03-25 12:57:56,846 - 695269 - root - INFO - file in directory /tmp/tmp0aegrrmq/input_files = /tmp/tmp0aegrrmq/input_files/s7.py. size = 1509\n",
            "2021-03-25 12:57:56,849 - 695269 - root - INFO - file in directory /tmp/tmp0aegrrmq/input_files = /tmp/tmp0aegrrmq/input_files/s4.py. size = 1308\n",
            "2021-03-25 12:57:56,850 - 695269 - root - INFO - file in directory /tmp/tmp0aegrrmq/input_files = /tmp/tmp0aegrrmq/input_files/s5.py. size = 1160\n",
            "2021-03-25 12:57:56,851 - 695269 - root - INFO - file in directory /tmp/tmp0aegrrmq/input_files = /tmp/tmp0aegrrmq/input_files/s.py. size = 1639\n",
            "2021-03-25 12:57:56,852 - 695269 - root - INFO - file in directory /tmp/tmp0aegrrmq/input_files = /tmp/tmp0aegrrmq/input_files/s8.py. size = 1432\n",
            "2021-03-25 12:57:56,853 - 695269 - root - INFO - file in directory /tmp/tmp0aegrrmq/input_files = /tmp/tmp0aegrrmq/input_files/s2.py. size = 1666\n",
            "2021-03-25 12:57:56,854 - 695269 - root - INFO - file in directory /tmp/tmp0aegrrmq/input_files = /tmp/tmp0aegrrmq/input_files/s9.py. size = 5974\n",
            "2021-03-25 12:57:56,855 - 695269 - root - INFO - file in directory /tmp/tmp0aegrrmq/input_files = /tmp/tmp0aegrrmq/input_files/a.py. size = 1321\n",
            "2021-03-25 12:57:56,856 - 695269 - root - INFO - file in directory /tmp/tmp0aegrrmq/input_files = /tmp/tmp0aegrrmq/input_files/predict.py. size = 1739\n",
            "2021-03-25 12:57:56,856 - 695269 - root - INFO - Attempting to download spacy's trained model: ['python', '-m', 'pip', 'install', 'en_core_web_lg']\n"
          ]
        },
        {
          "name": "stdout",
          "output_type": "stream",
          "text": [
            "infinstor[695269][2021-03-25 12:57:56]Execution of global statics complete. status_str=Success\n",
            "/home/prachi_multilex\n"
          ]
        },
        {
          "name": "stderr",
          "output_type": "stream",
          "text": [
            "2021-03-25 12:57:58,978 - 695269 - root - INFO - Finished downloading trained model: download_cmd=['python', '-m', 'pip', 'install', 'en_core_web_lg'] ; completedProcess.stdout=b'Looking in indexes: https://pypi.org/simple, https://pip.infinstor.com\\nRequirement already satisfied: en_core_web_lg in ./miniconda3/envs/multilex/lib/python3.8/site-packages (2.3.1)\\nRequirement already satisfied: spacy<2.4.0,>=2.3.0 in ./miniconda3/envs/multilex/lib/python3.8/site-packages (from en_core_web_lg) (2.3.5)\\nRequirement already satisfied: cymem<2.1.0,>=2.0.2 in ./miniconda3/envs/multilex/lib/python3.8/site-packages (from spacy<2.4.0,>=2.3.0->en_core_web_lg) (2.0.5)\\nRequirement already satisfied: catalogue<1.1.0,>=0.0.7 in ./miniconda3/envs/multilex/lib/python3.8/site-packages (from spacy<2.4.0,>=2.3.0->en_core_web_lg) (1.0.0)\\nRequirement already satisfied: preshed<3.1.0,>=3.0.2 in ./miniconda3/envs/multilex/lib/python3.8/site-packages (from spacy<2.4.0,>=2.3.0->en_core_web_lg) (3.0.5)\\nRequirement already satisfied: blis<0.8.0,>=0.4.0 in ./miniconda3/envs/multilex/lib/python3.8/site-packages (from spacy<2.4.0,>=2.3.0->en_core_web_lg) (0.7.4)\\nRequirement already satisfied: tqdm<5.0.0,>=4.38.0 in ./miniconda3/envs/multilex/lib/python3.8/site-packages (from spacy<2.4.0,>=2.3.0->en_core_web_lg) (4.56.0)\\nRequirement already satisfied: plac<1.2.0,>=0.9.6 in ./miniconda3/envs/multilex/lib/python3.8/site-packages (from spacy<2.4.0,>=2.3.0->en_core_web_lg) (1.1.3)\\nRequirement already satisfied: srsly<1.1.0,>=1.0.2 in ./miniconda3/envs/multilex/lib/python3.8/site-packages (from spacy<2.4.0,>=2.3.0->en_core_web_lg) (1.0.5)\\nRequirement already satisfied: numpy>=1.15.0 in ./miniconda3/envs/multilex/lib/python3.8/site-packages (from spacy<2.4.0,>=2.3.0->en_core_web_lg) (1.19.5)\\nRequirement already satisfied: setuptools in ./miniconda3/envs/multilex/lib/python3.8/site-packages (from spacy<2.4.0,>=2.3.0->en_core_web_lg) (51.3.3.post20210118)\\nRequirement already satisfied: thinc<7.5.0,>=7.4.1 in ./miniconda3/envs/multilex/lib/python3.8/site-packages (from spacy<2.4.0,>=2.3.0->en_core_web_lg) (7.4.5)\\nRequirement already satisfied: requests<3.0.0,>=2.13.0 in ./miniconda3/envs/multilex/lib/python3.8/site-packages (from spacy<2.4.0,>=2.3.0->en_core_web_lg) (2.25.1)\\nRequirement already satisfied: murmurhash<1.1.0,>=0.28.0 in ./miniconda3/envs/multilex/lib/python3.8/site-packages (from spacy<2.4.0,>=2.3.0->en_core_web_lg) (1.0.5)\\nRequirement already satisfied: wasabi<1.1.0,>=0.4.0 in ./miniconda3/envs/multilex/lib/python3.8/site-packages (from spacy<2.4.0,>=2.3.0->en_core_web_lg) (0.8.0)\\nRequirement already satisfied: chardet<5,>=3.0.2 in ./miniconda3/envs/multilex/lib/python3.8/site-packages (from requests<3.0.0,>=2.13.0->spacy<2.4.0,>=2.3.0->en_core_web_lg) (3.0.4)\\nRequirement already satisfied: idna<3,>=2.5 in ./miniconda3/envs/multilex/lib/python3.8/site-packages (from requests<3.0.0,>=2.13.0->spacy<2.4.0,>=2.3.0->en_core_web_lg) (2.10)\\nRequirement already satisfied: urllib3<1.27,>=1.21.1 in ./miniconda3/envs/multilex/lib/python3.8/site-packages (from requests<3.0.0,>=2.13.0->spacy<2.4.0,>=2.3.0->en_core_web_lg) (1.26.2)\\nRequirement already satisfied: certifi>=2017.4.17 in ./miniconda3/envs/multilex/lib/python3.8/site-packages (from requests<3.0.0,>=2.13.0->spacy<2.4.0,>=2.3.0->en_core_web_lg) (2020.12.5)\\n' ; completedProcess.stderr=b''\n",
            "2021-03-25 12:58:58,463 - 695269 - root - INFO - reading input artifact /tmp/tmp0aegrrmq/infinstor/todays_report.csv\n"
          ]
        },
        {
          "name": "stdout",
          "output_type": "stream",
          "text": [
            "infinstor[695269][2021-03-25 12:58:58]Error executing infin_transform_all_objects, status=[Errno 2] No such file or directory: '/tmp/tmp0aegrrmq/infinstor/todays_report.csv', traceback = \n",
            "Traceback (most recent call last):\n",
            "  File \"/home/prachi_multilex/miniconda3/envs/multilex/lib/python3.8/site-packages/infinstor/__init__.py\", line 773, in read_and_xform_all_objects\n",
            "    namespaced_infin_transform_fnx(temp_input_dir_root, temp_output_dir, **kwargs)\n",
            "  File \"<string>\", line 26, in infin_transform_all_objects\n",
            "  File \"<string>\", line 88, in NERModel_lg\n",
            "  File \"/home/prachi_multilex/miniconda3/envs/multilex/lib/python3.8/site-packages/pandas/io/parsers.py\", line 605, in read_csv\n",
            "    return _read(filepath_or_buffer, kwds)\n",
            "  File \"/home/prachi_multilex/miniconda3/envs/multilex/lib/python3.8/site-packages/pandas/io/parsers.py\", line 457, in _read\n",
            "    parser = TextFileReader(filepath_or_buffer, **kwds)\n",
            "  File \"/home/prachi_multilex/miniconda3/envs/multilex/lib/python3.8/site-packages/pandas/io/parsers.py\", line 814, in __init__\n",
            "    self._engine = self._make_engine(self.engine)\n",
            "  File \"/home/prachi_multilex/miniconda3/envs/multilex/lib/python3.8/site-packages/pandas/io/parsers.py\", line 1045, in _make_engine\n",
            "    return mapping[engine](self.f, **self.options)  # type: ignore[call-arg]\n",
            "  File \"/home/prachi_multilex/miniconda3/envs/multilex/lib/python3.8/site-packages/pandas/io/parsers.py\", line 1862, in __init__\n",
            "    self._open_handles(src, kwds)\n",
            "  File \"/home/prachi_multilex/miniconda3/envs/multilex/lib/python3.8/site-packages/pandas/io/parsers.py\", line 1357, in _open_handles\n",
            "    self.handles = get_handle(\n",
            "  File \"/home/prachi_multilex/miniconda3/envs/multilex/lib/python3.8/site-packages/pandas/io/common.py\", line 642, in get_handle\n",
            "    handle = open(\n",
            "FileNotFoundError: [Errno 2] No such file or directory: '/tmp/tmp0aegrrmq/infinstor/todays_report.csv'\n",
            "\n",
            "infinstor[695269][2021-03-25 12:58:59]Successfully logged artifacts\n"
          ]
        }
      ],
      "source": [
        "from infinstor import run_transforms\n",
        "\n",
        "transforms = []\n",
        "\n",
        "%env MLFLOW_TRACKING_URI infinstor://infinstor.com/\n",
        "%env MLFLOW_EXPERIMENT_ID 0\n",
        "input_data_spec = dict()\n",
        "input_data_spec['type'] = 'infinsnap'\n",
        "input_data_spec['time_spec'] = 'tm20210323162412'\n",
        "input_data_spec['bucketname'] = 'multilex-s3-bucket-prachi'\n",
        "input_data_spec['prefix'] = ''\n",
        "run_options = dict()\n",
        "run_options['run_location'] = 'inline'\n",
        "run_options['service_name'] = 'infinstor.com'\n",
        "run_options['input_data_spec'] = input_data_spec\n",
        "run_options['xformname'] = 'NerLgModel_transform'\n",
        "transform1= {}\n",
        "transform1['kwargs'] = None\n",
        "transform1['run_options'] = run_options\n",
        "transforms.append(transform1) \n",
        "\n",
        "run_id = run_transforms(transforms)"
      ]
    },
    {
      "cell_type": "code",
      "execution_count": null,
      "id": "purple-holly",
      "metadata": {
        "id": "purple-holly"
      },
      "outputs": [],
      "source": [
        "import pandas as pd"
      ]
    },
    {
      "cell_type": "code",
      "execution_count": null,
      "id": "sunset-mouth",
      "metadata": {
        "id": "sunset-mouth"
      },
      "outputs": [],
      "source": [
        "dic1 = {'text':['x','y','z'],'age':[29,38]}\n",
        "dic2 = {'name':['x','y','z'],'address':[20,29,21]}\n",
        "df2 = pd.DataFrame(dic2)\n",
        "import pandas as pd \n",
        "df1 = pd.DataFrame.from_dict(dic1,orient='index')\n",
        "df1 = df1.transpose()\n",
        "# df = [df1,df2]\n",
        "final = pd.concat([df1,df2],axis=1)\n",
        "final = final.reset_index(drop=True)\n",
        "\n",
        "\n",
        "# final"
      ]
    },
    {
      "cell_type": "code",
      "execution_count": null,
      "id": "greek-match",
      "metadata": {
        "id": "greek-match"
      },
      "outputs": [],
      "source": [
        "del final['age']"
      ]
    },
    {
      "cell_type": "code",
      "execution_count": null,
      "id": "municipal-teens",
      "metadata": {
        "id": "municipal-teens",
        "outputId": "8053ed95-3f02-4c97-c6b7-5bba0d95e408"
      },
      "outputs": [
        {
          "data": {
            "text/html": [
              "<div>\n",
              "<style scoped>\n",
              "    .dataframe tbody tr th:only-of-type {\n",
              "        vertical-align: middle;\n",
              "    }\n",
              "\n",
              "    .dataframe tbody tr th {\n",
              "        vertical-align: top;\n",
              "    }\n",
              "\n",
              "    .dataframe thead th {\n",
              "        text-align: right;\n",
              "    }\n",
              "</style>\n",
              "<table border=\"1\" class=\"dataframe\">\n",
              "  <thead>\n",
              "    <tr style=\"text-align: right;\">\n",
              "      <th></th>\n",
              "      <th>text</th>\n",
              "      <th>name</th>\n",
              "      <th>address</th>\n",
              "    </tr>\n",
              "  </thead>\n",
              "  <tbody>\n",
              "    <tr>\n",
              "      <th>0</th>\n",
              "      <td>x</td>\n",
              "      <td>x</td>\n",
              "      <td>20</td>\n",
              "    </tr>\n",
              "    <tr>\n",
              "      <th>1</th>\n",
              "      <td>y</td>\n",
              "      <td>y</td>\n",
              "      <td>29</td>\n",
              "    </tr>\n",
              "    <tr>\n",
              "      <th>2</th>\n",
              "      <td>z</td>\n",
              "      <td>z</td>\n",
              "      <td>21</td>\n",
              "    </tr>\n",
              "  </tbody>\n",
              "</table>\n",
              "</div>"
            ],
            "text/plain": [
              "  text name  address\n",
              "0    x    x       20\n",
              "1    y    y       29\n",
              "2    z    z       21"
            ]
          },
          "execution_count": 5,
          "metadata": {},
          "output_type": "execute_result"
        }
      ],
      "source": [
        "final"
      ]
    },
    {
      "cell_type": "code",
      "execution_count": null,
      "id": "suspected-shadow",
      "metadata": {
        "id": "suspected-shadow"
      },
      "outputs": [],
      "source": [
        ""
      ]
    }
  ],
  "metadata": {
    "kernelspec": {
      "display_name": "Python 3",
      "language": "python",
      "name": "python3"
    },
    "language_info": {
      "codemirror_mode": {
        "name": "ipython",
        "version": 3
      },
      "file_extension": ".py",
      "mimetype": "text/x-python",
      "name": "python",
      "nbconvert_exporter": "python",
      "pygments_lexer": "ipython3",
      "version": "3.8.5"
    },
    "colab": {
      "name": "NerModelLg.ipynb",
      "provenance": []
    }
  },
  "nbformat": 4,
  "nbformat_minor": 5
}